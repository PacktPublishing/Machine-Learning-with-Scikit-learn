{
 "cells": [
  {
   "cell_type": "markdown",
   "metadata": {},
   "source": [
    "# Classifying characters in scikit-learn"
   ]
  },
  {
   "cell_type": "markdown",
   "metadata": {},
   "source": [
    "#### Classifying handwritten digits"
   ]
  },
  {
   "cell_type": "code",
   "execution_count": 2,
   "metadata": {},
   "outputs": [
    {
     "data": {
      "image/png": "[encoded data removed]",
      "text/plain": [
       "<matplotlib.figure.Figure at 0x8ebe518>"
      ]
     },
     "metadata": {},
     "output_type": "display_data"
    }
   ],
   "source": [
    "import matplotlib.pyplot as plt\n",
    "from sklearn.datasets import fetch_mldata\n",
    "import matplotlib.cm as cm\n",
    "\n",
    "mnist = fetch_mldata('MNIST original', data_home='data/mnist')\n",
    "\n",
    "counter = 1\n",
    "for i in range(1, 4):\n",
    "    for j in range(1, 6):\n",
    "        plt.subplot(3, 5, counter)\n",
    "        plt.imshow(mnist.data[(i - 1) * 8000 + j].reshape((28, 28)), cmap=cm.Greys_r)\n",
    "        plt.axis('off')\n",
    "        counter += 1\n",
    "plt.show()"
   ]
  },
  {
   "cell_type": "code",
   "execution_count": 3,
   "metadata": {
    "scrolled": false
   },
   "outputs": [
    {
     "name": "stderr",
     "output_type": "stream",
     "text": [
      "E:\\Anc\\lib\\site-packages\\sklearn\\cross_validation.py:44: DeprecationWarning: This module was deprecated in version 0.18 in favor of the model_selection module into which all the refactored classes and functions are moved. Also note that the interface of the new CV iterators are different from that of this module. This module will be removed in 0.20.\n",
      "  \"This module will be removed in 0.20.\", DeprecationWarning)\n",
      "E:\\Anc\\lib\\site-packages\\sklearn\\grid_search.py:43: DeprecationWarning: This module was deprecated in version 0.18 in favor of the model_selection module into which all the refactored classes and functions are moved. This module will be removed in 0.20.\n",
      "  DeprecationWarning)\n"
     ]
    },
    {
     "name": "stdout",
     "output_type": "stream",
     "text": [
      "Fitting 3 folds for each of 30 candidates, totalling 90 fits\n"
     ]
    },
    {
     "name": "stderr",
     "output_type": "stream",
     "text": [
      "[Parallel(n_jobs=2)]: Done  46 tasks      | elapsed: 50.6min\n",
      "[Parallel(n_jobs=2)]: Done  90 out of  90 | elapsed: 99.1min finished\n"
     ]
    },
    {
     "name": "stdout",
     "output_type": "stream",
     "text": [
      "Best score: 0.963\n",
      "Best parameters set:\n",
      "\tclf__C: 10\n",
      "\tclf__gamma: 0.01\n",
      "             precision    recall  f1-score   support\n",
      "\n",
      "        0.0       0.98      0.99      0.98      1697\n",
      "        1.0       0.99      0.98      0.98      2045\n",
      "        2.0       0.95      0.98      0.96      1743\n",
      "        3.0       0.96      0.96      0.96      1835\n",
      "        4.0       0.96      0.97      0.97      1693\n",
      "        5.0       0.97      0.96      0.97      1564\n",
      "        6.0       0.98      0.99      0.98      1683\n",
      "        7.0       0.98      0.97      0.97      1807\n",
      "        8.0       0.97      0.96      0.96      1692\n",
      "        9.0       0.97      0.95      0.96      1741\n",
      "\n",
      "avg / total       0.97      0.97      0.97     17500\n",
      "\n"
     ]
    }
   ],
   "source": [
    "from sklearn.pipeline import Pipeline\n",
    "from sklearn.preprocessing import scale\n",
    "from sklearn.model_selection import train_test_split\n",
    "from sklearn.svm import SVC\n",
    "from sklearn.grid_search import GridSearchCV\n",
    "from sklearn.metrics import classification_report\n",
    "\n",
    "if __name__ == '__main__':\n",
    "    X, y = mnist.data, mnist.target\n",
    "    X = X/255.0*2 - 1\n",
    "    X_train, X_test, y_train, y_test = train_test_split(X, y, random_state=11)\n",
    "    \n",
    "    pipeline = Pipeline([\n",
    "        ('clf', SVC(kernel='rbf', gamma=0.01, C=100))\n",
    "    ])\n",
    "    \n",
    "    parameters = {\n",
    "        'clf__gamma': (0.01, 0.03, 0.1, 0.3, 1),\n",
    "        'clf__C': (0.1, 0.3, 1, 3, 10, 30),\n",
    "    }\n",
    "\n",
    "    grid_search = GridSearchCV(pipeline, parameters, n_jobs=2, verbose=1, scoring='accuracy')\n",
    "    grid_search.fit(X_train[:10000], y_train[:10000])\n",
    "    print('Best score: %0.3f' % grid_search.best_score_)\n",
    "    print('Best parameters set:')\n",
    "    best_parameters = grid_search.best_estimator_.get_params()\n",
    "    for param_name in sorted(parameters.keys()):\n",
    "        print('\\t%s: %r' % (param_name, best_parameters[param_name]))\n",
    "    \n",
    "    predictions = grid_search.predict(X_test)\n",
    "    print(classification_report(y_test, predictions))"
   ]
  },
  {
   "cell_type": "markdown",
   "metadata": {},
   "source": [
    "#### Classifying characters in natural images"
   ]
  },
  {
   "cell_type": "code",
   "execution_count": 4,
   "metadata": {
    "collapsed": true
   },
   "outputs": [],
   "source": [
    "import os\n",
    "import numpy as np\n",
    "from sklearn.pipeline import Pipeline\n",
    "from sklearn.svm import SVC\n",
    "from sklearn.model_selection import train_test_split\n",
    "from sklearn.grid_search import GridSearchCV\n",
    "from sklearn.metrics import classification_report\n",
    "from PIL import Image\n",
    "\n",
    "X = []\n",
    "y = []\n",
    "for path, subdirs, files in os.walk('data/English/Img/GoodImg/Bmp/'):\n",
    "    for filename in files:\n",
    "        f = os.path.join(path, filename)\n",
    "        target = filename[3:filename.index('-')]\n",
    "        img = Image.open(f).convert('L').resize((30, 30), resample=Image.LANCZOS)\n",
    "        X.append(np.array(img).reshape(900,))\n",
    "        y.append(target)\n",
    "X = np.array(X)"
   ]
  },
  {
   "cell_type": "code",
   "execution_count": 5,
   "metadata": {},
   "outputs": [
    {
     "name": "stdout",
     "output_type": "stream",
     "text": [
      "Fitting 3 folds for each of 30 candidates, totalling 90 fits\n"
     ]
    },
    {
     "name": "stderr",
     "output_type": "stream",
     "text": [
      "[Parallel(n_jobs=3)]: Done  44 tasks      | elapsed: 30.6min\n",
      "[Parallel(n_jobs=3)]: Done  90 out of  90 | elapsed: 61.9min finished\n"
     ]
    },
    {
     "name": "stdout",
     "output_type": "stream",
     "text": [
      "Best score: 0.074\n",
      "Best parameters set:\n",
      "\tclf__C: 1\n",
      "\tclf__gamma: 0.01\n",
      "             precision    recall  f1-score   support\n",
      "\n",
      "        001       0.00      0.00      0.00        13\n",
      "        002       0.00      0.00      0.00         8\n",
      "        003       0.00      0.00      0.00        11\n",
      "        004       0.00      0.00      0.00         4\n",
      "        005       0.00      0.00      0.00         7\n",
      "        006       0.00      0.00      0.00         6\n",
      "        007       0.00      0.00      0.00         6\n",
      "        008       0.00      0.00      0.00         3\n",
      "        010       0.00      0.00      0.00         2\n",
      "        011       0.07      1.00      0.12        51\n",
      "        012       0.00      0.00      0.00        13\n",
      "        013       0.00      0.00      0.00        21\n",
      "        014       0.00      0.00      0.00        21\n",
      "        015       0.00      0.00      0.00        44\n",
      "        016       0.00      0.00      0.00         6\n",
      "        017       0.00      0.00      0.00        14\n",
      "        018       0.00      0.00      0.00        21\n",
      "        019       0.00      0.00      0.00        37\n",
      "        020       0.00      0.00      0.00         5\n",
      "        021       0.00      0.00      0.00         6\n",
      "        022       0.00      0.00      0.00        21\n",
      "        023       0.00      0.00      0.00        20\n",
      "        024       0.00      0.00      0.00        35\n",
      "        025       0.00      0.00      0.00        44\n",
      "        026       0.00      0.00      0.00        16\n",
      "        027       0.00      0.00      0.00         3\n",
      "        028       0.00      0.00      0.00        42\n",
      "        029       0.00      0.00      0.00        28\n",
      "        030       0.00      0.00      0.00        26\n",
      "        031       0.00      0.00      0.00         7\n",
      "        032       0.00      0.00      0.00         9\n",
      "        033       0.00      0.00      0.00         6\n",
      "        034       0.00      0.00      0.00         8\n",
      "        035       0.00      0.00      0.00         6\n",
      "        036       0.00      0.00      0.00         4\n",
      "        037       0.00      0.00      0.00        23\n",
      "        038       0.00      0.00      0.00         2\n",
      "        039       0.00      0.00      0.00         9\n",
      "        040       0.00      0.00      0.00         6\n",
      "        041       0.00      0.00      0.00        24\n",
      "        042       0.00      0.00      0.00         1\n",
      "        043       0.00      0.00      0.00         1\n",
      "        044       0.00      0.00      0.00         6\n",
      "        045       0.00      0.00      0.00        15\n",
      "        046       0.00      0.00      0.00         3\n",
      "        047       0.00      0.00      0.00         5\n",
      "        048       0.00      0.00      0.00         4\n",
      "        049       0.00      0.00      0.00         3\n",
      "        050       0.00      0.00      0.00        14\n",
      "        051       0.00      0.00      0.00        19\n",
      "        052       0.00      0.00      0.00         5\n",
      "        053       0.00      0.00      0.00         2\n",
      "        054       0.00      0.00      0.00        12\n",
      "        055       0.00      0.00      0.00        11\n",
      "        056       0.00      0.00      0.00        17\n",
      "        057       0.00      0.00      0.00         3\n",
      "        058       0.00      0.00      0.00         3\n",
      "        060       0.00      0.00      0.00         2\n",
      "        061       0.00      0.00      0.00         5\n",
      "        062       0.00      0.00      0.00         2\n",
      "\n",
      "avg / total       0.00      0.07      0.01       771\n",
      "\n"
     ]
    }
   ],
   "source": [
    "X_train, X_test, y_train, y_test = train_test_split(X, y, test_size=.1, random_state=11)\n",
    "pipeline = Pipeline([\n",
    "    ('clf', SVC(kernel='rbf', gamma=0.01, C=100))\n",
    "])\n",
    "parameters = {\n",
    "    'clf__gamma': (0.01, 0.03, 0.1, 0.3, 1),\n",
    "    'clf__C': (0.1, 0.3, 1, 3, 10, 30),\n",
    "}\n",
    "\n",
    "if __name__ == '__main__':\n",
    "    grid_search = GridSearchCV(pipeline, parameters, n_jobs=3, verbose=1, scoring='accuracy')\n",
    "    grid_search.fit(X_train, y_train)\n",
    "    print('Best score: %0.3f' % grid_search.best_score_)\n",
    "    print('Best parameters set:')\n",
    "    best_parameters = grid_search.best_estimator_.get_params()\n",
    "    for param_name in sorted(parameters.keys()):\n",
    "        print('\\t%s: %r' % (param_name, best_parameters[param_name]))\n",
    "    predictions = grid_search.predict(X_test)\n",
    "    print(classification_report(y_test, predictions))"
   ]
  },
  {
   "cell_type": "code",
   "execution_count": null,
   "metadata": {
    "collapsed": true
   },
   "outputs": [],
   "source": []
  }
 ],
 "metadata": {
  "kernelspec": {
   "display_name": "Python 3",
   "language": "python",
   "name": "python3"
  },
  "language_info": {
   "codemirror_mode": {
    "name": "ipython",
    "version": 3
   },
   "file_extension": ".py",
   "mimetype": "text/x-python",
   "name": "python",
   "nbconvert_exporter": "python",
   "pygments_lexer": "ipython3",
   "version": "3.6.1"
  }
 },
 "nbformat": 4,
 "nbformat_minor": 2
}
