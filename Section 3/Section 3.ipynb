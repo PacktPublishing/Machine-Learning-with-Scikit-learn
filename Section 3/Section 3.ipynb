{
 "cells": [
  {
   "cell_type": "code",
   "execution_count": 11,
   "metadata": {},
   "outputs": [
    {
     "data": {
      "image/png": "[encoded data removed]",
      "text/plain": [
       "<matplotlib.figure.Figure at 0x1287eeb8>"
      ]
     },
     "metadata": {},
     "output_type": "display_data"
    }
   ],
   "source": [
    "import numpy as np\n",
    "import matplotlib.pyplot as plt\n",
    "\n",
    "X_train = np.array([\n",
    "    [158, 64],\n",
    "    [170, 86],\n",
    "    [183, 84],\n",
    "    [191, 80],\n",
    "    [155, 49],\n",
    "    [163, 59],\n",
    "    [180, 67],\n",
    "    [158, 54],\n",
    "    [170, 67]\n",
    "])\n",
    "y_train = ['male', 'male', 'male', 'male', 'female', 'female', 'female', 'female', 'female']\n",
    "\n",
    "plt.figure()\n",
    "plt.title('Human Heights and Weights by Sex')\n",
    "plt.xlabel('Height in cm')\n",
    "plt.ylabel('Weight in kg')\n",
    "\n",
    "for i, x in enumerate(X_train):\n",
    "    plt.scatter(x[0], x[1], c='k', marker='x' if y_train[i] == 'male' else 'D')\n",
    "plt.grid(True)\n",
    "plt.show()"
   ]
  },
  {
   "cell_type": "code",
   "execution_count": 12,
   "metadata": {},
   "outputs": [
    {
     "data": {
      "text/plain": [
       "array([  6.70820393,  21.9317122 ,  31.30495168,  37.36308338,\n",
       "        21.        ,  13.60147051,  25.17935662,  16.2788206 ,  15.29705854])"
      ]
     },
     "execution_count": 12,
     "metadata": {},
     "output_type": "execute_result"
    }
   ],
   "source": [
    "x = np.array([[155, 70]])\n",
    "distances = np.sqrt(np.sum((X_train - x)**2, axis=1))\n",
    "distances"
   ]
  },
  {
   "cell_type": "code",
   "execution_count": 13,
   "metadata": {},
   "outputs": [
    {
     "data": {
      "text/plain": [
       "array(['male', 'female', 'female'],\n",
       "      dtype='<U6')"
      ]
     },
     "execution_count": 13,
     "metadata": {},
     "output_type": "execute_result"
    }
   ],
   "source": [
    "nearest_neighbor_indices = distances.argsort()[:3]\n",
    "nearest_neighbor_genders = np.take(y_train, nearest_neighbor_indices)\n",
    "nearest_neighbor_genders"
   ]
  },
  {
   "cell_type": "code",
   "execution_count": 14,
   "metadata": {},
   "outputs": [
    {
     "data": {
      "text/plain": [
       "'female'"
      ]
     },
     "execution_count": 14,
     "metadata": {},
     "output_type": "execute_result"
    }
   ],
   "source": [
    "from collections import Counter\n",
    "b = Counter(np.take(y_train, distances.argsort()[:3]))\n",
    "b.most_common(1)[0][0]"
   ]
  },
  {
   "cell_type": "code",
   "execution_count": 15,
   "metadata": {},
   "outputs": [
    {
     "data": {
      "image/png": "[encoded data removed]",
      "text/plain": [
       "<matplotlib.figure.Figure at 0x129528d0>"
      ]
     },
     "metadata": {},
     "output_type": "display_data"
    }
   ],
   "source": [
    "import numpy as np\n",
    "import matplotlib.pyplot as plt\n",
    "\n",
    "X_train = np.array([\n",
    "    [158, 64],\n",
    "    [170, 86],\n",
    "    [183, 84],\n",
    "    [191, 80],\n",
    "    [155, 49],\n",
    "    [163, 59],\n",
    "    [180, 67],\n",
    "    [158, 54],\n",
    "    [170, 67]\n",
    "])\n",
    "y_train = ['male', 'male', 'male', 'male', 'female', 'female', 'female', 'female', 'female']\n",
    "\n",
    "plt.figure()\n",
    "plt.title('Human Heights and Weights by Sex')\n",
    "plt.xlabel('Height in cm')\n",
    "plt.ylabel('Weight in kg')\n",
    "\n",
    "for i, x in enumerate(X_train):\n",
    "    plt.scatter(x[0], x[1], c='k', marker='x' if y_train[i] == 'male' else 'D')\n",
    "plt.scatter(158, 64, s=200, c='k', marker='x')\n",
    "plt.scatter(163, 59, s=200, c='k', marker='D')\n",
    "plt.scatter(158, 54, s=200, c='k', marker='D')\n",
    "plt.scatter(155, 70, s=200, c='k', marker='o')\n",
    "plt.grid(True)\n",
    "plt.show()"
   ]
  },
  {
   "cell_type": "code",
   "execution_count": 16,
   "metadata": {},
   "outputs": [
    {
     "data": {
      "text/plain": [
       "array([[1],\n",
       "       [1],\n",
       "       [1],\n",
       "       [1],\n",
       "       [0],\n",
       "       [0],\n",
       "       [0],\n",
       "       [0],\n",
       "       [0]])"
      ]
     },
     "execution_count": 16,
     "metadata": {},
     "output_type": "execute_result"
    }
   ],
   "source": [
    "from sklearn.preprocessing import LabelBinarizer\n",
    "from sklearn.neighbors import KNeighborsClassifier\n",
    "\n",
    "lb = LabelBinarizer()\n",
    "y_train_binarized = lb.fit_transform(y_train)\n",
    "y_train_binarized"
   ]
  },
  {
   "cell_type": "code",
   "execution_count": 17,
   "metadata": {},
   "outputs": [
    {
     "data": {
      "text/plain": [
       "array(['female'],\n",
       "      dtype='<U6')"
      ]
     },
     "execution_count": 17,
     "metadata": {},
     "output_type": "execute_result"
    }
   ],
   "source": [
    "K = 3\n",
    "clf = KNeighborsClassifier(n_neighbors=K)\n",
    "clf.fit(X_train, y_train_binarized.reshape(-1))\n",
    "\n",
    "prediction_binarized = clf.predict(np.array([155, 70]).reshape(1, -1))[0]\n",
    "predicted_label = lb.inverse_transform(prediction_binarized)\n",
    "predicted_label"
   ]
  },
  {
   "cell_type": "code",
   "execution_count": 18,
   "metadata": {},
   "outputs": [
    {
     "name": "stdout",
     "output_type": "stream",
     "text": [
      "Binarized labels: [1 1 0 0]\n",
      "Binarized predictions: [0 1 0 0]\n",
      "Predicted labels: ['female' 'male' 'female' 'female']\n"
     ]
    }
   ],
   "source": [
    "X_test = np.array([\n",
    "    [168, 65],\n",
    "    [180, 96],\n",
    "    [160, 52],\n",
    "    [169, 67]\n",
    "])\n",
    "y_test = ['male', 'male', 'female', 'female']\n",
    "y_test_binarized = lb.transform(y_test)\n",
    "print('Binarized labels: %s' % y_test_binarized.T[0])\n",
    "\n",
    "predictions_binarized = clf.predict(X_test)\n",
    "print('Binarized predictions: %s' % predictions_binarized)\n",
    "print('Predicted labels: %s' % lb.inverse_transform(predictions_binarized))"
   ]
  },
  {
   "cell_type": "code",
   "execution_count": 19,
   "metadata": {},
   "outputs": [
    {
     "name": "stdout",
     "output_type": "stream",
     "text": [
      "Accuracy: 0.75\n"
     ]
    }
   ],
   "source": [
    "from sklearn.metrics import accuracy_score\n",
    "print('Accuracy: %s' % accuracy_score(y_test_binarized,predictions_binarized))"
   ]
  },
  {
   "cell_type": "code",
   "execution_count": 20,
   "metadata": {},
   "outputs": [
    {
     "name": "stdout",
     "output_type": "stream",
     "text": [
      "Precision: 1.0\n"
     ]
    }
   ],
   "source": [
    "from sklearn.metrics import precision_score\n",
    "print('Precision: %s' % precision_score(y_test_binarized,predictions_binarized))"
   ]
  },
  {
   "cell_type": "code",
   "execution_count": 21,
   "metadata": {},
   "outputs": [
    {
     "name": "stdout",
     "output_type": "stream",
     "text": [
      "Recall: 0.5\n"
     ]
    }
   ],
   "source": [
    "from sklearn.metrics import recall_score\n",
    "print('Recall: %s' % recall_score(y_test_binarized,predictions_binarized))"
   ]
  },
  {
   "cell_type": "code",
   "execution_count": 22,
   "metadata": {},
   "outputs": [
    {
     "name": "stdout",
     "output_type": "stream",
     "text": [
      "F1 score: 0.666666666667\n"
     ]
    }
   ],
   "source": [
    "from sklearn.metrics import f1_score\n",
    "print('F1 score: %s' % f1_score(y_test_binarized,predictions_binarized))"
   ]
  },
  {
   "cell_type": "code",
   "execution_count": 23,
   "metadata": {},
   "outputs": [
    {
     "name": "stdout",
     "output_type": "stream",
     "text": [
      "Matthews correlation coefficient: 0.57735026919\n"
     ]
    }
   ],
   "source": [
    "from sklearn.metrics import matthews_corrcoef\n",
    "print('Matthews correlation coefficient: %s' % matthews_corrcoef(y_test_binarized,\n",
    "                                                                 predictions_binarized))"
   ]
  },
  {
   "cell_type": "code",
   "execution_count": 24,
   "metadata": {},
   "outputs": [
    {
     "name": "stdout",
     "output_type": "stream",
     "text": [
      "             precision    recall  f1-score   support\n",
      "\n",
      "       male       1.00      0.50      0.67         2\n",
      "\n",
      "avg / total       1.00      0.50      0.67         2\n",
      "\n"
     ]
    }
   ],
   "source": [
    "from sklearn.metrics import classification_report\n",
    "print(classification_report(y_test_binarized, predictions_binarized,target_names=['male'], labels=[1]))"
   ]
  },
  {
   "cell_type": "markdown",
   "metadata": {},
   "source": [
    "# Regression with KNN"
   ]
  },
  {
   "cell_type": "code",
   "execution_count": 16,
   "metadata": {},
   "outputs": [
    {
     "name": "stdout",
     "output_type": "stream",
     "text": [
      "Predicted weights: [ 70.66666667  79.          59.          70.66666667]\n",
      "Actual weights: [65, 96, 52, 67]\n",
      "Coefficient of determination: 0.629056522674\n",
      "Mean absolute error: 8.33333333333\n",
      "Mean squared error: 95.8888888889\n"
     ]
    }
   ],
   "source": [
    "import numpy as np\n",
    "import matplotlib.pyplot as plt\n",
    "from sklearn.metrics import r2_score, mean_absolute_error, mean_squared_error\n",
    "from sklearn.neighbors import KNeighborsRegressor\n",
    "\n",
    "X_train = np.array([\n",
    "    [158, 1],\n",
    "    [170, 1],\n",
    "    [183, 1],\n",
    "    [191, 1],\n",
    "    [155, 0],\n",
    "    [163, 0],\n",
    "    [180, 0],\n",
    "    [158, 0],\n",
    "    [170, 0]\n",
    "])\n",
    "y_train = [64, 86, 84, 80, 49, 59, 67, 54, 67]\n",
    "\n",
    "X_test = np.array([\n",
    "    [168, 1],\n",
    "    [180, 1],\n",
    "    [160, 0],\n",
    "    [169, 0]\n",
    "])\n",
    "y_test = [65, 96, 52, 67]\n",
    "\n",
    "K = 3\n",
    "clf = KNeighborsRegressor(n_neighbors=K)\n",
    "clf.fit(X_train, y_train)\n",
    "predictions = clf.predict(np.array(X_test))\n",
    "print('Predicted weights: %s' % predictions)\n",
    "print('Actual weights: %s' % y_test)\n",
    "print('Coefficient of determination: %s' % r2_score(y_test,predictions))\n",
    "print('Mean absolute error: %s' % mean_absolute_error(y_test,predictions))\n",
    "print('Mean squared error: %s' % mean_squared_error(y_test,predictions))"
   ]
  },
  {
   "cell_type": "markdown",
   "metadata": {},
   "source": [
    "# Scaling features"
   ]
  },
  {
   "cell_type": "code",
   "execution_count": 15,
   "metadata": {},
   "outputs": [
    {
     "name": "stdout",
     "output_type": "stream",
     "text": [
      "60.0\n",
      "40.0124980475\n",
      "162.3\n",
      "162.40307878855006\n"
     ]
    }
   ],
   "source": [
    "from scipy.spatial.distance import euclidean\n",
    "\n",
    "# heights in millimeters\n",
    "X_train = np.array([\n",
    "[1700, 1],\n",
    "[1600, 0]\n",
    "])\n",
    "x_test = np.array([1640, 1]).reshape(1, -1)\n",
    "print(euclidean(X_train[0, :], x_test))\n",
    "print(euclidean(X_train[1, :], x_test))\n",
    "\n",
    "# heights in meters\n",
    "X_train = np.array([\n",
    "[1.7, 1],\n",
    "[1.6, 0]\n",
    "])\n",
    "x_test = np.array([164, 1]).reshape(1, -1)\n",
    "print(euclidean(X_train[0, :], x_test))\n",
    "print(euclidean(X_train[1, :], x_test))"
   ]
  },
  {
   "cell_type": "code",
   "execution_count": 17,
   "metadata": {},
   "outputs": [
    {
     "name": "stdout",
     "output_type": "stream",
     "text": [
      "[[158   1]\n",
      " [170   1]\n",
      " [183   1]\n",
      " [191   1]\n",
      " [155   0]\n",
      " [163   0]\n",
      " [180   0]\n",
      " [158   0]\n",
      " [170   0]]\n",
      "[[-0.9908706   1.11803399]\n",
      " [ 0.01869567  1.11803399]\n",
      " [ 1.11239246  1.11803399]\n",
      " [ 1.78543664  1.11803399]\n",
      " [-1.24326216 -0.89442719]\n",
      " [-0.57021798 -0.89442719]\n",
      " [ 0.86000089 -0.89442719]\n",
      " [-0.9908706  -0.89442719]\n",
      " [ 0.01869567 -0.89442719]]\n",
      "Predicted wieghts: [ 78.          83.33333333  54.          64.33333333]\n",
      "Coefficient of determination: 0.670642596175\n",
      "Mean absolute error: 7.58333333333\n",
      "Mean squared error: 85.1388888889\n"
     ]
    },
    {
     "name": "stderr",
     "output_type": "stream",
     "text": [
      "E:\\Anaconda\\lib\\site-packages\\sklearn\\utils\\validation.py:429: DataConversionWarning: Data with input dtype int32 was converted to float64 by StandardScaler.\n",
      "  warnings.warn(msg, _DataConversionWarning)\n"
     ]
    }
   ],
   "source": [
    "from sklearn.preprocessing import StandardScaler\n",
    "ss = StandardScaler()\n",
    "\n",
    "X_train_scaled = ss.fit_transform(X_train)\n",
    "\n",
    "print(X_train)\n",
    "print(X_train_scaled)\n",
    "\n",
    "X_test_scaled = ss.transform(X_test)\n",
    "\n",
    "clf.fit(X_train_scaled, y_train)\n",
    "\n",
    "predictions = clf.predict(X_test_scaled)\n",
    "\n",
    "print('Predicted wieghts: %s' % predictions)\n",
    "print('Coefficient of determination: %s' % r2_score(y_test,predictions))\n",
    "print('Mean absolute error: %s' % mean_absolute_error(y_test,predictions))\n",
    "print('Mean squared error: %s' % mean_squared_error(y_test,predictions))"
   ]
  },
  {
   "cell_type": "code",
   "execution_count": null,
   "metadata": {
    "collapsed": true
   },
   "outputs": [],
   "source": []
  }
 ],
 "metadata": {
  "kernelspec": {
   "display_name": "Python 3",
   "language": "python",
   "name": "python3"
  },
  "language_info": {
   "codemirror_mode": {
    "name": "ipython",
    "version": 3
   },
   "file_extension": ".py",
   "mimetype": "text/x-python",
   "name": "python",
   "nbconvert_exporter": "python",
   "pygments_lexer": "ipython3",
   "version": "3.6.1"
  }
 },
 "nbformat": 4,
 "nbformat_minor": 2
}
