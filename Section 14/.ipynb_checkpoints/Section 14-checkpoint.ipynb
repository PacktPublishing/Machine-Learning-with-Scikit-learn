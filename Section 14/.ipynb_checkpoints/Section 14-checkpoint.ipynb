{
 "cells": [
  {
   "cell_type": "markdown",
   "metadata": {},
   "source": [
    "# Principal component analysis"
   ]
  },
  {
   "cell_type": "markdown",
   "metadata": {},
   "source": [
    "#### Variance, covariance, and covariance matrices"
   ]
  },
  {
   "cell_type": "code",
   "execution_count": 13,
   "metadata": {},
   "outputs": [
    {
     "name": "stdout",
     "output_type": "stream",
     "text": [
      "[[ 2.92        3.16        2.95        2.67      ]\n",
      " [ 3.16        3.43        3.175       2.885     ]\n",
      " [ 2.95        3.175       3.01        2.705     ]\n",
      " [ 2.67        2.885       2.705       2.44333333]]\n"
     ]
    }
   ],
   "source": [
    "import numpy as np\n",
    "\n",
    "X = np.array([\n",
    "    [2, 0, -1.4],\n",
    "    [2.2, 0.2, -1.5],\n",
    "    [2.4, 0.1, -1],\n",
    "    [1.9, 0, -1.2]\n",
    "])\n",
    "\n",
    "print(np.cov(X).T)"
   ]
  },
  {
   "cell_type": "code",
   "execution_count": 14,
   "metadata": {},
   "outputs": [
    {
     "name": "stdout",
     "output_type": "stream",
     "text": [
      "[-0.99999998 -1.00000002]\n",
      "[[ 0.70710678  0.70710678]\n",
      " [ 0.70710678  0.70710678]]\n"
     ]
    }
   ],
   "source": [
    "import numpy as np\n",
    "w, v = np.linalg.eig(np.array([[1, -2], [2, -3]]))\n",
    "print(w)\n",
    "print(v)"
   ]
  },
  {
   "cell_type": "markdown",
   "metadata": {},
   "source": [
    "# Visualizing high-dimensional data with PCA"
   ]
  },
  {
   "cell_type": "code",
   "execution_count": 15,
   "metadata": {},
   "outputs": [
    {
     "data": {
      "image/png": "[encoded data removed]",
      "text/plain": [
       "<matplotlib.figure.Figure at 0x9a54e48>"
      ]
     },
     "metadata": {},
     "output_type": "display_data"
    }
   ],
   "source": [
    "import matplotlib.pyplot as plt\n",
    "from sklearn.decomposition import PCA\n",
    "from sklearn.datasets import load_iris\n",
    "\n",
    "data = load_iris()\n",
    "y = data.target\n",
    "X = data.data\n",
    "pca = PCA(n_components=2)\n",
    "reduced_X = pca.fit_transform(X)\n",
    "\n",
    "red_x, red_y = [], []\n",
    "blue_x, blue_y = [], []\n",
    "green_x, green_y = [], []\n",
    "for i in range(len(reduced_X)):\n",
    "    if y[i] == 0:\n",
    "        red_x.append(reduced_X[i][0])\n",
    "        red_y.append(reduced_X[i][1])\n",
    "    elif y[i] == 1:\n",
    "        blue_x.append(reduced_X[i][0])\n",
    "        blue_y.append(reduced_X[i][1])\n",
    "    else:\n",
    "        green_x.append(reduced_X[i][0])\n",
    "        green_y.append(reduced_X[i][1])\n",
    "plt.scatter(red_x, red_y, c='r', marker='x')\n",
    "plt.scatter(blue_x, blue_y, c='b', marker='D')\n",
    "plt.scatter(green_x, green_y, c='g', marker='.')\n",
    "plt.show()"
   ]
  },
  {
   "cell_type": "markdown",
   "metadata": {},
   "source": [
    "### Face recognition with PCA"
   ]
  },
  {
   "cell_type": "code",
   "execution_count": 65,
   "metadata": {
    "collapsed": true
   },
   "outputs": [],
   "source": [
    "import os\n",
    "import numpy as np\n",
    "from sklearn.cross_validation import train_test_split\n",
    "from sklearn.cross_validation import cross_val_score\n",
    "from sklearn.preprocessing import scale\n",
    "from sklearn.decomposition import PCA\n",
    "from sklearn.linear_model import LogisticRegression\n",
    "from sklearn.metrics import classification_report\n",
    "from PIL import Image\n",
    "\n",
    "X = []\n",
    "y = []\n",
    "\n",
    "for dirpath, _, filenames in os.walk('att_faces'):\n",
    "    for filename in filenames:\n",
    "        if filename[-3:] == 'pgm':\n",
    "            img = Image.open(os.path.join(dirpath, filename)).convert('L')\n",
    "            arr = np.array(img).reshape(10304).astype('float32') / 255\n",
    "            X.append(arr)\n",
    "            y.append(dirpath)\n",
    "\n",
    "X = scale(X)"
   ]
  },
  {
   "cell_type": "code",
   "execution_count": 66,
   "metadata": {
    "collapsed": true
   },
   "outputs": [],
   "source": [
    "X_train, X_test, y_train, y_test = train_test_split(X, y)\n",
    "pca = PCA(n_components=150)"
   ]
  },
  {
   "cell_type": "code",
   "execution_count": 67,
   "metadata": {},
   "outputs": [
    {
     "name": "stdout",
     "output_type": "stream",
     "text": [
      "(300, 10304)\n",
      "(300, 150)\n",
      "Cross validation accuracy: 0.791103073156\n",
      "               precision    recall  f1-score   support\n",
      "\n",
      " att_faces\\s1       0.50      1.00      0.67         1\n",
      "att_faces\\s10       1.00      1.00      1.00         3\n",
      "att_faces\\s11       1.00      1.00      1.00         2\n",
      "att_faces\\s12       1.00      1.00      1.00         3\n",
      "att_faces\\s13       1.00      1.00      1.00         2\n",
      "att_faces\\s15       1.00      0.60      0.75         5\n",
      "att_faces\\s16       0.50      1.00      0.67         1\n",
      "att_faces\\s17       1.00      1.00      1.00         3\n",
      "att_faces\\s18       1.00      1.00      1.00         3\n",
      "att_faces\\s19       1.00      1.00      1.00         2\n",
      " att_faces\\s2       0.50      1.00      0.67         2\n",
      "att_faces\\s20       1.00      1.00      1.00         2\n",
      "att_faces\\s21       1.00      0.83      0.91         6\n",
      "att_faces\\s22       1.00      1.00      1.00         4\n",
      "att_faces\\s23       1.00      1.00      1.00         2\n",
      "att_faces\\s24       0.75      1.00      0.86         3\n",
      "att_faces\\s25       1.00      1.00      1.00         2\n",
      "att_faces\\s26       1.00      1.00      1.00         2\n",
      "att_faces\\s27       1.00      1.00      1.00         2\n",
      "att_faces\\s28       1.00      0.50      0.67         4\n",
      "att_faces\\s29       0.67      1.00      0.80         2\n",
      " att_faces\\s3       1.00      1.00      1.00         3\n",
      "att_faces\\s30       1.00      1.00      1.00         2\n",
      "att_faces\\s31       1.00      1.00      1.00         2\n",
      "att_faces\\s32       0.50      1.00      0.67         1\n",
      "att_faces\\s33       1.00      0.75      0.86         4\n",
      "att_faces\\s34       0.75      1.00      0.86         3\n",
      "att_faces\\s35       1.00      1.00      1.00         3\n",
      "att_faces\\s36       1.00      0.14      0.25         7\n",
      "att_faces\\s37       1.00      1.00      1.00         1\n",
      "att_faces\\s38       1.00      1.00      1.00         2\n",
      "att_faces\\s39       1.00      1.00      1.00         2\n",
      " att_faces\\s4       1.00      1.00      1.00         1\n",
      "att_faces\\s40       1.00      1.00      1.00         1\n",
      " att_faces\\s5       1.00      1.00      1.00         3\n",
      " att_faces\\s6       1.00      1.00      1.00         1\n",
      " att_faces\\s7       0.33      1.00      0.50         2\n",
      " att_faces\\s8       1.00      1.00      1.00         3\n",
      " att_faces\\s9       1.00      1.00      1.00         3\n",
      "\n",
      "  avg / total       0.94      0.88      0.87       100\n",
      "\n"
     ]
    }
   ],
   "source": [
    "X_train_reduced = pca.fit_transform(X_train)\n",
    "X_test_reduced = pca.transform(X_test)\n",
    "print(X_train.shape)\n",
    "print(X_train_reduced.shape)\n",
    "classifier = LogisticRegression()\n",
    "accuracies = cross_val_score(classifier, X_train_reduced, y_train)\n",
    "print('Cross validation accuracy: %s' % np.mean(accuracies))\n",
    "classifier.fit(X_train_reduced, y_train)\n",
    "predictions = classifier.predict(X_test_reduced)\n",
    "print(classification_report(y_test, predictions))"
   ]
  },
  {
   "cell_type": "code",
   "execution_count": null,
   "metadata": {
    "collapsed": true
   },
   "outputs": [],
   "source": []
  }
 ],
 "metadata": {
  "kernelspec": {
   "display_name": "Python 3",
   "language": "python",
   "name": "python3"
  },
  "language_info": {
   "codemirror_mode": {
    "name": "ipython",
    "version": 3
   },
   "file_extension": ".py",
   "mimetype": "text/x-python",
   "name": "python",
   "nbconvert_exporter": "python",
   "pygments_lexer": "ipython3",
   "version": "3.6.1"
  }
 },
 "nbformat": 4,
 "nbformat_minor": 2
}
