{
 "cells": [
  {
   "cell_type": "markdown",
   "metadata": {},
   "source": [
    "## Training multi-layer perceptron"
   ]
  },
  {
   "cell_type": "markdown",
   "metadata": {},
   "source": [
    "#### Training a multi-layer perceptron to approximate XOR"
   ]
  },
  {
   "cell_type": "code",
   "execution_count": 2,
   "metadata": {},
   "outputs": [
    {
     "name": "stdout",
     "output_type": "stream",
     "text": [
      "Accuracy: 1.0\n",
      "True: 0, Predicted: 0\n",
      "True: 1, Predicted: 1\n",
      "True: 1, Predicted: 1\n",
      "True: 0, Predicted: 0\n"
     ]
    }
   ],
   "source": [
    "from sklearn.model_selection import train_test_split\n",
    "from sklearn.neural_network import MLPClassifier\n",
    "\n",
    "y = [0, 1, 1, 0]\n",
    "X = [[0, 0], [0, 1], [1, 0], [1, 1]]\n",
    "\n",
    "clf = MLPClassifier(solver='lbfgs', activation='logistic', hidden_layer_sizes=(2,), max_iter=100,\n",
    "                    random_state=20)\n",
    "clf.fit(X, y)\n",
    "\n",
    "predictions = clf.predict(X)\n",
    "print('Accuracy: %s' % clf.score(X, y))\n",
    "for i, p in enumerate(predictions[:10]):\n",
    "    print('True: %s, Predicted: %s' % (y[i], p))"
   ]
  },
  {
   "cell_type": "code",
   "execution_count": 3,
   "metadata": {},
   "outputs": [
    {
     "name": "stdout",
     "output_type": "stream",
     "text": [
      "Weights connecting the input layer and the hidden layer: \n",
      "[[ 6.1180391   6.35656374]\n",
      " [ 5.79147885  6.14551941]]\n",
      "Hidden layer bias weights: \n",
      "[-9.38637931 -2.77751734]\n",
      "Weights connecting the hidden layer and the output layer: \n",
      "[[-14.95481859]\n",
      " [ 14.53080973]]\n",
      "Output layer bias weight: \n",
      "[-7.22845327]\n"
     ]
    }
   ],
   "source": [
    "print('Weights connecting the input layer and the hidden layer: \\n%s' % clf.coefs_[0])\n",
    "print('Hidden layer bias weights: \\n%s' % clf.intercepts_[0])\n",
    "print('Weights connecting the hidden layer and the output layer: \\n%s' % clf.coefs_[1])\n",
    "print('Output layer bias weight: \\n%s' % clf.intercepts_[1])"
   ]
  },
  {
   "cell_type": "markdown",
   "metadata": {},
   "source": [
    "#### Training a multi-layer perceptron to classify handwritten digits"
   ]
  },
  {
   "cell_type": "code",
   "execution_count": 4,
   "metadata": {},
   "outputs": [
    {
     "name": "stdout",
     "output_type": "stream",
     "text": [
      "[ 0.95348837  0.96160267  0.90604027]\n"
     ]
    }
   ],
   "source": [
    "from sklearn.datasets import load_digits\n",
    "from sklearn.model_selection import train_test_split, cross_val_score\n",
    "from sklearn.pipeline import Pipeline\n",
    "from sklearn.preprocessing import StandardScaler\n",
    "from sklearn.neural_network.multilayer_perceptron import MLPClassifier\n",
    "\n",
    "if __name__ == '__main__':\n",
    "    digits = load_digits()\n",
    "    X = digits.data\n",
    "    y = digits.target\n",
    "    pipeline = Pipeline([\n",
    "        ('ss', StandardScaler()),\n",
    "        ('mlp', MLPClassifier(hidden_layer_sizes=(150, 100), alpha=0.1, max_iter=300, random_state=20))\n",
    "    ])\n",
    "    print(cross_val_score(pipeline, X, y, n_jobs=-1))"
   ]
  },
  {
   "cell_type": "code",
   "execution_count": null,
   "metadata": {
    "collapsed": true
   },
   "outputs": [],
   "source": []
  }
 ],
 "metadata": {
  "kernelspec": {
   "display_name": "Python 3",
   "language": "python",
   "name": "python3"
  },
  "language_info": {
   "codemirror_mode": {
    "name": "ipython",
    "version": 3
   },
   "file_extension": ".py",
   "mimetype": "text/x-python",
   "name": "python",
   "nbconvert_exporter": "python",
   "pygments_lexer": "ipython3",
   "version": "3.6.1"
  }
 },
 "nbformat": 4,
 "nbformat_minor": 2
}
